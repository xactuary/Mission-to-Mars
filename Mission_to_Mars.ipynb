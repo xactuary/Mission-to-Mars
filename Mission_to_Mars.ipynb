{
 "cells": [
  {
   "cell_type": "code",
   "execution_count": 43,
   "metadata": {},
   "outputs": [],
   "source": [
    "# Import Splinter and BeautifulSoup\n",
    "from splinter import Browser\n",
    "from bs4 import BeautifulSoup as soup\n",
    "import pandas as pd"
   ]
  },
  {
   "cell_type": "code",
   "execution_count": 44,
   "metadata": {},
   "outputs": [],
   "source": [
    "# Set the executable path and initialize the chrome browser in splinter\n",
    "executable_path = {'executable_path': 'chromedriver'}\n",
    "browser = Browser('chrome', **executable_path)"
   ]
  },
  {
   "cell_type": "code",
   "execution_count": 45,
   "metadata": {},
   "outputs": [],
   "source": [
    "def scrape_all():\n",
    "   # Initiate headless driver for deployment\n",
    "    browser = Browser(\"chrome\", executable_path=\"chromedriver\", headless=True)\n",
    "    news_title, news_paragraph = mars_news(browser)\n",
    "    # Run all scraping functions and store results in dictionary\n",
    "    data = {\n",
    "      \"news_title\": news_title,\n",
    "      \"news_paragraph\": news_paragraph,\n",
    "      \"featured_image\": featured_image(browser),\n",
    "      \"facts\": mars_facts(),\n",
    "      \"last_modified\": dt.datetime.now(),\n",
    "      \"new_dict\": {hemisphere}\n",
    "    }  \n",
    "       \n",
    "    \n",
    "    # Stop webdriver and return data\n",
    "\n",
    "    browser.quit()\n",
    "    return data\n",
    "# Set the executable path and initialize the chrome browser in splinter\n",
    "#executable_path = {'executable_path': 'chromedriver'}\n",
    "#browser = Browser('chrome', **executable_path)\n"
   ]
  },
  {
   "cell_type": "code",
   "execution_count": 46,
   "metadata": {},
   "outputs": [],
   "source": [
    "def mars_news(browser):\n",
    "\n",
    "    # Scrape Mars News\n",
    "    # Visit the mars nasa news site\n",
    "    url = 'https://mars.nasa.gov/news/'\n",
    "    browser.visit(url)\n",
    "\n",
    "    # Optional delay for loading the page\n",
    "    browser.is_element_present_by_css(\"ul.item_list li.slide\", wait_time=1)\n",
    "\n",
    "    # Convert the browser html to a soup object and then quit the browser\n",
    "    html = browser.html\n",
    "    news_soup = soup(html, 'html.parser')\n",
    "\n",
    "    # Add try/except for error handling\n",
    "    try:\n",
    "        slide_elem = news_soup.select_one(\"ul.item_list li.slide\")\n",
    "        # Use the parent element to find the first 'a' tag and save it as 'news_title'\n",
    "        news_title = slide_elem.find(\"div\", class_=\"content_title\").get_text()\n",
    "        # Use the parent element to find the paragraph text\n",
    "        news_p = slide_elem.find(\"div\", class_=\"article_teaser_body\").get_text()\n",
    "\n",
    "    except AttributeError:\n",
    "        return None, None\n",
    "\n",
    "    return news_title, news_p"
   ]
  },
  {
   "cell_type": "code",
   "execution_count": 47,
   "metadata": {},
   "outputs": [],
   "source": [
    "#def mars_news(browser):\n",
    "# Visit the mars nasa news site\n",
    "#    url = 'https://mars.nasa.gov/news/'\n",
    "#    browser.visit(url)\n",
    "# Optional delay for loading the page - search for tag ul with attribute item_list and li with attribute slide\n",
    "#  For example, ul.item_list would be found in HTML as <ul class=”item_list”>.\n",
    "# tells is to wait a second to let the browser load\n",
    "#    browser.is_element_present_by_css(\"ul.item_list li.slide\", wait_time=1)"
   ]
  },
  {
   "cell_type": "code",
   "execution_count": 48,
   "metadata": {},
   "outputs": [],
   "source": [
    "# set up the html parser - Convert the Browser html to a soup object and then quit the browser\n",
    "#    html = browser.html\n",
    "#    news_soup = soup(html, 'html.parser')\n",
    "# set up the variable to look for in the ul tag - this is the parent element . is for selecting classes\n",
    "# CSS works from right to left - so will find li slide first and all elements inside that\n",
    "#try:\n",
    "#    slide_elem = news_soup.select_one('ul.item_list li.slide')\n",
    "#    slide_elem.find(\"div\", class_='content_title')\n",
    "# Use the parent element to find the first 'a' tag and save it as 'news_title'\n",
    "#    news_title = slide_elem.find(\"div\", class_=\"content_title\").get_text()\n",
    "# Use the parent element to find the paragraph text\n",
    "#    news_p = slide_elem.find(\"div\", class_=\"article_teaser_body\").get_text()\n",
    "#   except AttributeError:\n",
    "    #return None, None"
   ]
  },
  {
   "cell_type": "code",
   "execution_count": 49,
   "metadata": {},
   "outputs": [],
   "source": [
    "#    slide_elem.find(\"div\", class_='content_title')"
   ]
  },
  {
   "cell_type": "code",
   "execution_count": 50,
   "metadata": {},
   "outputs": [],
   "source": [
    "# Use the parent element to find the first `a` tag and save it as `news_title`\n",
    "# the get_text chained to find pulls just the text and not the other html stuff. chained to find\n",
    "#    news_title = slide_elem.find(\"div\", class_='content_title').get_text()\n",
    "#    news_title"
   ]
  },
  {
   "cell_type": "code",
   "execution_count": 51,
   "metadata": {},
   "outputs": [],
   "source": [
    "# Use the parent element to find the paragraph text\n",
    "# find gets just the first class and attribute.  use find_all() to get all the classes and attributes\n",
    "#    news_p = slide_elem.find('div', class_=\"article_teaser_body\").get_text()\n",
    "#    news_p"
   ]
  },
  {
   "cell_type": "code",
   "execution_count": 52,
   "metadata": {},
   "outputs": [],
   "source": [
    "# when in a function, don't need to print it out but want to return from the function to use it outside of function.\n",
    "#return news_title, news_p"
   ]
  },
  {
   "cell_type": "markdown",
   "metadata": {},
   "source": [
    "### Featured Images"
   ]
  },
  {
   "cell_type": "code",
   "execution_count": 53,
   "metadata": {},
   "outputs": [],
   "source": [
    "# Visit URL\n",
    "url = 'https://www.jpl.nasa.gov/spaceimages/?search=&category=Mars'\n",
    "browser.visit(url)"
   ]
  },
  {
   "cell_type": "code",
   "execution_count": 54,
   "metadata": {},
   "outputs": [],
   "source": [
    "def featured_image(browser):\n",
    "    # Visit URL\n",
    "    url = 'https://www.jpl.nasa.gov/spaceimages/?search=&category=Mars'\n",
    "    browser.visit(url)\n",
    "    # in HTML an id is a completely unique identifier.  so id=full image will be unique\n",
    "# Find and click the full image button\n",
    "    full_image_elem = browser.find_by_id('full_image')\n",
    "    full_image_elem.click()\n",
    "# splinter can search for HTML elements by text these are built in methods\n",
    "# Find the more info button and click that\n",
    "    browser.is_element_present_by_text('more info', wait_time=1)\n",
    "    more_info_elem = browser.links.find_by_partial_text('more info')\n",
    "    more_info_elem.click()\n",
    "# Parse the resulting html with soup\n",
    "    html = browser.html\n",
    "    img_soup = soup(html, 'html.parser')    \n",
    "# Add try/except for error handling    \n",
    "    try:\n",
    "    # find the relative image url\n",
    "        img_url_rel=img_soup.select_one('figure.lede a img').get(\"src\")\n",
    "    except AttributeError:\n",
    "        return None\n",
    "# Use the base URL to create an absolute URL\n",
    "# use the f string because they are evaluated at run time which means the variable doesn't exist\n",
    "# until it is run which is good for web scraping that gets updated\n",
    "    img_url = f'https://www.jpl.nasa.gov{img_url_rel}'\n",
    "    img_url\n",
    "    \n",
    "    \n",
    "    return img_url"
   ]
  },
  {
   "cell_type": "code",
   "execution_count": 55,
   "metadata": {},
   "outputs": [],
   "source": [
    "# in HTML an id is a completely unique identifier.  so id=full image will be unique\n",
    "# Find and click the full image button\n",
    "#full_image_elem = browser.find_by_id('full_image')\n",
    "#full_image_elem.click()"
   ]
  },
  {
   "cell_type": "code",
   "execution_count": 56,
   "metadata": {},
   "outputs": [],
   "source": [
    "# splinter can search for HTML elements by text these are built in methods\n",
    "# Find the more info button and click that\n",
    "#browser.is_element_present_by_text('more info', wait_time=1)\n",
    "#more_info_elem = browser.links.find_by_partial_text('more info')\n",
    "#more_info_elem.click()"
   ]
  },
  {
   "cell_type": "code",
   "execution_count": 57,
   "metadata": {},
   "outputs": [],
   "source": [
    "# Parse the resulting html with soup\n",
    "#html = browser.html\n",
    "#img_soup = soup(html, 'html.parser')"
   ]
  },
  {
   "cell_type": "code",
   "execution_count": 58,
   "metadata": {},
   "outputs": [],
   "source": [
    "# the value of the src will be different every time the page is updated, \n",
    "# so we can't simply record the current value\n",
    "# The most recent image will be in  <figure /> and <a /> tags have the image link nested within them.\n",
    "# Find the relative image url\n",
    "# figure.lede references the <figure /> tag and its class, lede. a and then img is the next tag inside the figure tag\n",
    "#img_url_rel = img_soup.select_one('figure.lede a img').get(\"src\")\n",
    "#img_url_rel\n",
    "# get(\"src\") pulls the image link which is only a partial link because doesn't include base URL"
   ]
  },
  {
   "cell_type": "code",
   "execution_count": 59,
   "metadata": {},
   "outputs": [],
   "source": [
    "# Use the base URL to create an absolute URL\n",
    "# use the f string because they are evaluated at run time which means the variable doesn't exist\n",
    "# until it is run which is good for web scraping that gets updated\n",
    "#img_url = f'https://www.jpl.nasa.gov{img_url_rel}'\n",
    "#img_url"
   ]
  },
  {
   "cell_type": "code",
   "execution_count": 60,
   "metadata": {},
   "outputs": [],
   "source": [
    "def mars_facts():\n",
    "# Use pandas to scrape whole table using .read_html()\n",
    "# Pandas searches for and returns list of tables found in the HTML.\n",
    "  \n",
    "    try:\n",
    "      # use 'read_html\" to scrape the facts table into a dataframe\n",
    "        df = pd.read_html('http://space-facts.com/mars/')[0]\n",
    "    except BaseException:\n",
    "        return None   \n",
    "    \n",
    "    # assign column names to new dataframe\n",
    "\n",
    "    df.columns=['description', 'value']\n",
    "\n",
    "# puts the description column in the DF index.  inplace = true means that the updated index will remain in place without having \n",
    "# to reassign the dataframe to a new variable\n",
    "\n",
    "    df.set_index('description', inplace=True)\n",
    "    \n",
    "    # convert dataframe into HTML format add bootstrap\n",
    "    return df.to_html()"
   ]
  },
  {
   "cell_type": "code",
   "execution_count": 61,
   "metadata": {},
   "outputs": [],
   "source": [
    "# Use pandas to scrape whole table using .read_html()\n",
    "# Pandas searches for and returns list of tables found in the HTML.\n",
    "# the index 0 tells it to only pull the first table or the first item in the list\n",
    "# then it turns it into a dataframe\n",
    "\n",
    "#df = pd.read_html('http://space-facts.com/mars/')[0]\n",
    "\n",
    "# assign column names to new dataframe\n",
    "\n",
    "#df.columns=['description', 'value']\n",
    "\n",
    "# puts the description column in the DF index.  inplace = true means that the updated index will remain in place without having \n",
    "# to reassign the dataframe to a new variable\n",
    "\n",
    "#df.set_index('description', inplace=True)\n",
    "#df\n",
    "\n"
   ]
  },
  {
   "cell_type": "code",
   "execution_count": 62,
   "metadata": {},
   "outputs": [],
   "source": [
    "# pandas also has a way to convert the DF back into HTML with the .to_html() function\n",
    "# this code can be copied into the HTML for a website and will produce the table. \n",
    "#df.to_html()"
   ]
  },
  {
   "cell_type": "code",
   "execution_count": 63,
   "metadata": {},
   "outputs": [],
   "source": [
    "#browser.quit()"
   ]
  },
  {
   "cell_type": "code",
   "execution_count": null,
   "metadata": {},
   "outputs": [],
   "source": []
  },
  {
   "cell_type": "code",
   "execution_count": 69,
   "metadata": {},
   "outputs": [],
   "source": [
    "def scrape_marspics():\n",
    "    \n",
    "# 1. Use browser to visit the URL \n",
    "    url = 'https://astrogeology.usgs.gov/search/results?q=hemisphere+enhanced&k1=target&v1=Mars'\n",
    "    browser.visit(url)\n",
    "\n",
    "    # 2. Create a list to hold the images and titles.\n",
    "    hemisphere_image_urls = []\n",
    "    new_dict ={}\n",
    "\n",
    "    # 3. Write code to retrieve the image urls and titles for each hemisphere.\n",
    "\n",
    "    hemis = browser.find_by_css('a.product-item h3')\n",
    "\n",
    "    for hemi in range(len(hemis)):\n",
    "        hemisphere = {}\n",
    "        #find the link to click on each loop\n",
    "\n",
    "        browser.find_by_css('a.product-item h3')[hemi].click()\n",
    "\n",
    "        #find the sample image and get the href\n",
    "        sample = browser.find_link_by_text('Sample').first\n",
    "        hemisphere['img_url'] = sample['href']\n",
    "\n",
    "        # get title\n",
    "        hemisphere['title'] = browser.find_by_css('h2.title').text\n",
    "\n",
    "        #append it to the Hemisphere dictionary and go back a page to start clicking through again\n",
    "        hemisphere_image_urls.append(hemisphere)\n",
    "\n",
    "        browser.back()\n",
    "    #newdict= {}    \n",
    "    return hemisphere\n",
    "\n",
    "\n",
    "#newdict.items()"
   ]
  },
  {
   "cell_type": "code",
   "execution_count": 71,
   "metadata": {},
   "outputs": [
    {
     "name": "stdout",
     "output_type": "stream",
     "text": [
      "{'img_url': 'https://astropedia.astrogeology.usgs.gov/download/Mars/Viking/valles_marineris_enhanced.tif/full.jpg', 'title': 'Valles Marineris Hemisphere Enhanced'}\n"
     ]
    },
    {
     "ename": "NameError",
     "evalue": "name 'data' is not defined",
     "output_type": "error",
     "traceback": [
      "\u001b[1;31m---------------------------------------------------------------------------\u001b[0m",
      "\u001b[1;31mNameError\u001b[0m                                 Traceback (most recent call last)",
      "\u001b[1;32m<ipython-input-71-3f7bc40869aa>\u001b[0m in \u001b[0;36m<module>\u001b[1;34m\u001b[0m\n\u001b[0;32m      2\u001b[0m \u001b[1;31m# 4. Print the list that holds the dictionary of each image url and title.\u001b[0m\u001b[1;33m\u001b[0m\u001b[1;33m\u001b[0m\u001b[1;33m\u001b[0m\u001b[0m\n\u001b[0;32m      3\u001b[0m \u001b[0mprint\u001b[0m\u001b[1;33m(\u001b[0m\u001b[0mhemisphere\u001b[0m\u001b[1;33m)\u001b[0m\u001b[1;33m\u001b[0m\u001b[1;33m\u001b[0m\u001b[0m\n\u001b[1;32m----> 4\u001b[1;33m \u001b[0mprint\u001b[0m\u001b[1;33m(\u001b[0m\u001b[0mdata\u001b[0m\u001b[1;33m)\u001b[0m\u001b[1;33m\u001b[0m\u001b[1;33m\u001b[0m\u001b[0m\n\u001b[0m",
      "\u001b[1;31mNameError\u001b[0m: name 'data' is not defined"
     ]
    }
   ],
   "source": [
    "# 4. Print the list that holds the dictionary of each image url and title.\n",
    "# 4. Print the list that holds the dictionary of each image url and title.\n",
    "print(hemisphere)\n"
   ]
  },
  {
   "cell_type": "code",
   "execution_count": 72,
   "metadata": {},
   "outputs": [],
   "source": [
    "# 5. Quit the browser\n",
    "browser.quit()"
   ]
  },
  {
   "cell_type": "code",
   "execution_count": null,
   "metadata": {},
   "outputs": [],
   "source": []
  }
 ],
 "metadata": {
  "kernelspec": {
   "display_name": "PythonData",
   "language": "python",
   "name": "pythondata"
  },
  "language_info": {
   "codemirror_mode": {
    "name": "ipython",
    "version": 3
   },
   "file_extension": ".py",
   "mimetype": "text/x-python",
   "name": "python",
   "nbconvert_exporter": "python",
   "pygments_lexer": "ipython3",
   "version": "3.7.7"
  }
 },
 "nbformat": 4,
 "nbformat_minor": 4
}
